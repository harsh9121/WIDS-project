{
 "cells": [
  {
   "cell_type": "code",
   "execution_count": 1,
   "id": "29502dcd",
   "metadata": {},
   "outputs": [],
   "source": [
    "import torch\n",
    "from torchvision import datasets, transforms\n",
    "from torch.utils.data import DataLoader\n",
    "from scipy.io import loadmat\n",
    "from PIL import Image\n",
    "import numpy as np\n",
    "\n",
    "\n",
    "mnist = loadmat(r\"C:\\Users\\sivar\\Downloads\\mnist-original.mat\\mnist-original.mat\")\n",
    "images = mnist[\"data\"].T\n",
    "labels = mnist[\"label\"][0]\n",
    "\n",
    "# Defining data transformations for preprocessing\n",
    "transform = transforms.Compose([\n",
    "    transforms.ToTensor(),  # Convert images to PyTorch tensors\n",
    "    transforms.Normalize((0.5,), (0.5,))  # Normalize the pixel values\n",
    "])\n",
    "\n",
    "\n",
    "# Converting data into PyTorch Dataset\n",
    "dataset = torch.utils.data.TensorDataset(torch.Tensor(images), torch.Tensor(labels))\n",
    "\n",
    "# Create DataLoader for batching and shuffling\n",
    "batch_size = 32\n",
    "data_loader = DataLoader(dataset, batch_size=batch_size, shuffle=True)\n"
   ]
  },
  {
   "cell_type": "code",
   "execution_count": 5,
   "id": "ced21a86",
   "metadata": {},
   "outputs": [],
   "source": [
    "import torch\n",
    "from torchvision import datasets, transforms\n",
    "from torch.utils.data import DataLoader, SubsetRandomSampler\n",
    "from sklearn.model_selection import train_test_split\n",
    "\n",
    "\n",
    "\n",
    "# Converting data into PyTorch Dataset\n",
    "dataset = torch.utils.data.TensorDataset(torch.Tensor(images), torch.Tensor(labels))\n",
    "\n",
    "# Defining the ratio for splitting \n",
    "train_ratio = 0.8\n",
    "test_ratio = 0.2\n",
    "\n",
    "# Spliting dataset into train and test sets using sklearn\n",
    "train_indices, test_indices = train_test_split(range(len(dataset)), test_size=test_ratio, random_state=42)\n",
    "\n",
    "# Defining samplers for train and test sets\n",
    "train_sampler = SubsetRandomSampler(train_indices)\n",
    "test_sampler = SubsetRandomSampler(test_indices)\n",
    "\n",
    "# Creating DataLoader for both train and test sets\n",
    "batch_size = 32\n",
    "\n",
    "train_loader = DataLoader(dataset, batch_size=batch_size, sampler=train_sampler)\n",
    "test_loader = DataLoader(dataset, batch_size=batch_size, sampler=test_sampler)\n",
    "\n"
   ]
  },
  {
   "cell_type": "code",
   "execution_count": 6,
   "id": "f20557d4",
   "metadata": {},
   "outputs": [
    {
     "name": "stdout",
     "output_type": "stream",
     "text": [
      "Downloading http://yann.lecun.com/exdb/mnist/train-images-idx3-ubyte.gz\n",
      "Downloading http://yann.lecun.com/exdb/mnist/train-images-idx3-ubyte.gz to ./data\\MNIST\\raw\\train-images-idx3-ubyte.gz\n"
     ]
    },
    {
     "name": "stderr",
     "output_type": "stream",
     "text": [
      "100%|███████████████████████████████████████████████████████████████████| 9912422/9912422 [00:03<00:00, 2804127.18it/s]\n"
     ]
    },
    {
     "name": "stdout",
     "output_type": "stream",
     "text": [
      "Extracting ./data\\MNIST\\raw\\train-images-idx3-ubyte.gz to ./data\\MNIST\\raw\n",
      "\n",
      "Downloading http://yann.lecun.com/exdb/mnist/train-labels-idx1-ubyte.gz\n",
      "Downloading http://yann.lecun.com/exdb/mnist/train-labels-idx1-ubyte.gz to ./data\\MNIST\\raw\\train-labels-idx1-ubyte.gz\n"
     ]
    },
    {
     "name": "stderr",
     "output_type": "stream",
     "text": [
      "100%|███████████████████████████████████████████████████████████████████████| 28881/28881 [00:00<00:00, 2539372.66it/s]\n"
     ]
    },
    {
     "name": "stdout",
     "output_type": "stream",
     "text": [
      "Extracting ./data\\MNIST\\raw\\train-labels-idx1-ubyte.gz to ./data\\MNIST\\raw\n",
      "\n",
      "Downloading http://yann.lecun.com/exdb/mnist/t10k-images-idx3-ubyte.gz\n",
      "Downloading http://yann.lecun.com/exdb/mnist/t10k-images-idx3-ubyte.gz to ./data\\MNIST\\raw\\t10k-images-idx3-ubyte.gz\n"
     ]
    },
    {
     "name": "stderr",
     "output_type": "stream",
     "text": [
      "100%|████████████████████████████████████████████████████████████████████| 1648877/1648877 [00:01<00:00, 994119.05it/s]\n"
     ]
    },
    {
     "name": "stdout",
     "output_type": "stream",
     "text": [
      "Extracting ./data\\MNIST\\raw\\t10k-images-idx3-ubyte.gz to ./data\\MNIST\\raw\n",
      "\n",
      "Downloading http://yann.lecun.com/exdb/mnist/t10k-labels-idx1-ubyte.gz\n",
      "Downloading http://yann.lecun.com/exdb/mnist/t10k-labels-idx1-ubyte.gz to ./data\\MNIST\\raw\\t10k-labels-idx1-ubyte.gz\n"
     ]
    },
    {
     "name": "stderr",
     "output_type": "stream",
     "text": [
      "100%|█████████████████████████████████████████████████████████████████████████| 4542/4542 [00:00<00:00, 2203901.99it/s]\n"
     ]
    },
    {
     "name": "stdout",
     "output_type": "stream",
     "text": [
      "Extracting ./data\\MNIST\\raw\\t10k-labels-idx1-ubyte.gz to ./data\\MNIST\\raw\n",
      "\n",
      "Epoch [1/5], Batch [100/938], Loss: 0.7551\n",
      "Epoch [1/5], Batch [200/938], Loss: 0.1806\n",
      "Epoch [1/5], Batch [300/938], Loss: 0.1215\n",
      "Epoch [1/5], Batch [400/938], Loss: 0.1101\n",
      "Epoch [1/5], Batch [500/938], Loss: 0.0876\n",
      "Epoch [1/5], Batch [600/938], Loss: 0.0821\n",
      "Epoch [1/5], Batch [700/938], Loss: 0.0616\n",
      "Epoch [1/5], Batch [800/938], Loss: 0.0639\n",
      "Epoch [1/5], Batch [900/938], Loss: 0.0556\n",
      "Epoch [2/5], Batch [100/938], Loss: 0.0518\n",
      "Epoch [2/5], Batch [200/938], Loss: 0.0637\n",
      "Epoch [2/5], Batch [300/938], Loss: 0.0463\n",
      "Epoch [2/5], Batch [400/938], Loss: 0.0413\n",
      "Epoch [2/5], Batch [500/938], Loss: 0.0493\n",
      "Epoch [2/5], Batch [600/938], Loss: 0.0366\n",
      "Epoch [2/5], Batch [700/938], Loss: 0.0482\n",
      "Epoch [2/5], Batch [800/938], Loss: 0.0410\n",
      "Epoch [2/5], Batch [900/938], Loss: 0.0339\n",
      "Epoch [3/5], Batch [100/938], Loss: 0.0265\n",
      "Epoch [3/5], Batch [200/938], Loss: 0.0317\n",
      "Epoch [3/5], Batch [300/938], Loss: 0.0257\n",
      "Epoch [3/5], Batch [400/938], Loss: 0.0292\n",
      "Epoch [3/5], Batch [500/938], Loss: 0.0347\n",
      "Epoch [3/5], Batch [600/938], Loss: 0.0329\n",
      "Epoch [3/5], Batch [700/938], Loss: 0.0339\n",
      "Epoch [3/5], Batch [800/938], Loss: 0.0370\n",
      "Epoch [3/5], Batch [900/938], Loss: 0.0379\n",
      "Epoch [4/5], Batch [100/938], Loss: 0.0195\n",
      "Epoch [4/5], Batch [200/938], Loss: 0.0158\n",
      "Epoch [4/5], Batch [300/938], Loss: 0.0228\n",
      "Epoch [4/5], Batch [400/938], Loss: 0.0177\n",
      "Epoch [4/5], Batch [500/938], Loss: 0.0228\n",
      "Epoch [4/5], Batch [600/938], Loss: 0.0258\n",
      "Epoch [4/5], Batch [700/938], Loss: 0.0289\n",
      "Epoch [4/5], Batch [800/938], Loss: 0.0196\n",
      "Epoch [4/5], Batch [900/938], Loss: 0.0272\n",
      "Epoch [5/5], Batch [100/938], Loss: 0.0167\n",
      "Epoch [5/5], Batch [200/938], Loss: 0.0185\n",
      "Epoch [5/5], Batch [300/938], Loss: 0.0144\n",
      "Epoch [5/5], Batch [400/938], Loss: 0.0192\n",
      "Epoch [5/5], Batch [500/938], Loss: 0.0200\n",
      "Epoch [5/5], Batch [600/938], Loss: 0.0212\n",
      "Epoch [5/5], Batch [700/938], Loss: 0.0185\n",
      "Epoch [5/5], Batch [800/938], Loss: 0.0232\n",
      "Epoch [5/5], Batch [900/938], Loss: 0.0141\n",
      "Finished Training\n"
     ]
    }
   ],
   "source": [
    "import torch\n",
    "import torch.nn as nn\n",
    "import torch.optim as optim\n",
    "from torchvision import datasets, transforms\n",
    "from torch.utils.data import DataLoader\n",
    "\n",
    "# Defining the CNN model\n",
    "class CNN(nn.Module):\n",
    "    def __init__(self):\n",
    "        super(CNN, self).__init__()\n",
    "        self.conv1 = nn.Conv2d(1, 32, kernel_size=3, stride=1, padding=1)\n",
    "        self.conv2 = nn.Conv2d(32, 64, kernel_size=3, stride=1, padding=1)\n",
    "        self.pool = nn.MaxPool2d(2, 2)\n",
    "        self.fc1 = nn.Linear(64 * 7 * 7, 128)\n",
    "        self.fc2 = nn.Linear(128, 10)\n",
    "\n",
    "    def forward(self, x):\n",
    "        x = self.pool(nn.functional.relu(self.conv1(x)))\n",
    "        x = self.pool(nn.functional.relu(self.conv2(x)))\n",
    "        x = x.view(-1, 64 * 7 * 7)\n",
    "        x = nn.functional.relu(self.fc1(x))\n",
    "        x = self.fc2(x)\n",
    "        return x\n",
    "\n",
    "# Setting up the device (GPU if available, else CPU)\n",
    "device = torch.device(\"cuda:0\" if torch.cuda.is_available() else \"cpu\")\n",
    "\n",
    "transform = transforms.Compose([\n",
    "    transforms.ToTensor(),\n",
    "    transforms.Normalize((0.5,), (0.5,))\n",
    "])\n",
    "\n",
    "train_data = datasets.MNIST(root='./data', train=True, download=True, transform=transform)\n",
    "test_data = datasets.MNIST(root='./data', train=False, download=True, transform=transform)\n",
    "\n",
    "batch_size = 64\n",
    "\n",
    "train_loader = DataLoader(train_data, batch_size=batch_size, shuffle=True)\n",
    "test_loader = DataLoader(test_data, batch_size=batch_size, shuffle=False)\n",
    "\n",
    "# Initializing the model, loss function, and optimizer\n",
    "model = CNN().to(device)\n",
    "criterion = nn.CrossEntropyLoss()\n",
    "optimizer = optim.Adam(model.parameters(), lr=0.001)\n",
    "\n",
    "# Training the CNN\n",
    "epochs = 5\n",
    "\n",
    "for epoch in range(epochs):\n",
    "    running_loss = 0.0\n",
    "    for i, data in enumerate(train_loader, 0):\n",
    "        inputs, labels = data[0].to(device), data[1].to(device)\n",
    "        optimizer.zero_grad()\n",
    "\n",
    "        outputs = model(inputs)\n",
    "        loss = criterion(outputs, labels)\n",
    "        loss.backward()\n",
    "        optimizer.step()\n",
    "\n",
    "        running_loss += loss.item()\n",
    "        if i % 100 == 99:\n",
    "            print(f\"Epoch [{epoch + 1}/{epochs}], \"\n",
    "                  f\"Batch [{i + 1}/{len(train_loader)}], \"\n",
    "                  f\"Loss: {running_loss / 100:.4f}\")\n",
    "            running_loss = 0.0\n",
    "\n",
    "print(\"Finished Training\")\n"
   ]
  },
  {
   "cell_type": "code",
   "execution_count": 8,
   "id": "b6064f79",
   "metadata": {},
   "outputs": [
    {
     "name": "stdout",
     "output_type": "stream",
     "text": [
      "Accuracy: 98.81%\n",
      "Confusion Matrix:\n",
      "[[ 979    0    0    0    0    0    0    1    0    0]\n",
      " [   0 1134    0    0    0    1    0    0    0    0]\n",
      " [   2    2 1019    1    4    0    0    2    2    0]\n",
      " [   1    0    0  995    0    8    0    0    5    1]\n",
      " [   0    0    0    0  980    0    0    0    0    2]\n",
      " [   2    0    0    3    0  882    3    0    0    2]\n",
      " [  11    2    0    0    9    0  935    0    1    0]\n",
      " [   1    7    3    1    0    0    0 1011    1    4]\n",
      " [   2    1    0    1    3    1    1    0  960    5]\n",
      " [   5    0    0    1   12    1    0    4    0  986]]\n"
     ]
    }
   ],
   "source": [
    "from sklearn.metrics import accuracy_score, confusion_matrix\n",
    "import numpy as np\n",
    "\n",
    "model.eval()  # Setting the model to evaluation mode\n",
    "\n",
    "predicted_labels = []\n",
    "true_labels = []\n",
    "\n",
    "with torch.no_grad():\n",
    "    for data in test_loader:\n",
    "        inputs, labels = data[0].to(device), data[1].to(device)\n",
    "        outputs = model(inputs)\n",
    "        _, predicted = torch.max(outputs, 1)\n",
    "        \n",
    "        predicted_labels.extend(predicted.cpu().numpy())\n",
    "        true_labels.extend(labels.cpu().numpy())\n",
    "\n",
    "# Calculating accuracy\n",
    "accuracy = accuracy_score(true_labels, predicted_labels)\n",
    "print(f\"Accuracy: {accuracy * 100:.2f}%\")\n",
    "\n",
    "# Calculating confusion matrix\n",
    "conf_matrix = confusion_matrix(true_labels, predicted_labels)\n",
    "print(\"Confusion Matrix:\")\n",
    "print(conf_matrix)"
   ]
  },
  {
   "cell_type": "code",
   "execution_count": null,
   "id": "dc181fb1",
   "metadata": {},
   "outputs": [],
   "source": []
  }
 ],
 "metadata": {
  "kernelspec": {
   "display_name": "Python 3 (ipykernel)",
   "language": "python",
   "name": "python3"
  },
  "language_info": {
   "codemirror_mode": {
    "name": "ipython",
    "version": 3
   },
   "file_extension": ".py",
   "mimetype": "text/x-python",
   "name": "python",
   "nbconvert_exporter": "python",
   "pygments_lexer": "ipython3",
   "version": "3.10.9"
  }
 },
 "nbformat": 4,
 "nbformat_minor": 5
}
